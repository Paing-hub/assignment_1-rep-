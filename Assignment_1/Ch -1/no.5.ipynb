{
 "cells": [
  {
   "cell_type": "code",
   "execution_count": 2,
   "metadata": {},
   "outputs": [
    {
     "name": "stdout",
     "output_type": "stream",
     "text": [
      "Enter  variable x : 543\n",
      "Enter variable y : 234\n",
      "Your varaible x swapped into 234\n",
      "Your variable y swapped into 543\n"
     ]
    }
   ],
   "source": [
    "def var_swapper():\n",
    "    x = eval(input('Enter  variable x : '))\n",
    "    y = eval(input('Enter variable y : '))\n",
    "    var_x = y\n",
    "    var_y = x\n",
    "    print(\"Your varaible x swapped into\",(var_x))\n",
    "    print('Your variable y swapped into',(var_y))\n",
    "var_swapper()"
   ]
  },
  {
   "cell_type": "code",
   "execution_count": null,
   "metadata": {},
   "outputs": [],
   "source": []
  }
 ],
 "metadata": {
  "kernelspec": {
   "display_name": "Python 3",
   "language": "python",
   "name": "python3"
  },
  "language_info": {
   "codemirror_mode": {
    "name": "ipython",
    "version": 3
   },
   "file_extension": ".py",
   "mimetype": "text/x-python",
   "name": "python",
   "nbconvert_exporter": "python",
   "pygments_lexer": "ipython3",
   "version": "3.7.3"
  }
 },
 "nbformat": 4,
 "nbformat_minor": 2
}
