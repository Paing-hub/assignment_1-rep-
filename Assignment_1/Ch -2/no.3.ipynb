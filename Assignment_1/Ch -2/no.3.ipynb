{
 "cells": [
  {
   "cell_type": "code",
   "execution_count": null,
   "metadata": {},
   "outputs": [],
   "source": [
    "x = int(input('Enter Your Number: '))\n",
    "y = int(input(\"Enter Your 2nd Number: \"))\n",
    "z = int(input('Enter Your 3rd Number: '))\n",
    "def kise():\n",
    "    if x > y > z:\n",
    "        print(x)\n",
    "    elif x > z > y:\n",
    "        print(x)\n",
    "    elif y > x > z:\n",
    "        print(y)\n",
    "    elif y > z > x:\n",
    "        print(y)\n",
    "    else:\n",
    "        print(z)\n",
    "kise()"
   ]
  }
 ],
 "metadata": {
  "kernelspec": {
   "display_name": "Python 3",
   "language": "python",
   "name": "python3"
  },
  "language_info": {
   "codemirror_mode": {
    "name": "ipython",
    "version": 3
   },
   "file_extension": ".py",
   "mimetype": "text/x-python",
   "name": "python",
   "nbconvert_exporter": "python",
   "pygments_lexer": "ipython3",
   "version": "3.7.3"
  }
 },
 "nbformat": 4,
 "nbformat_minor": 2
}
