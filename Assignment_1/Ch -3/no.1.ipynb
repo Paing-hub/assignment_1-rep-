{
 "cells": [
  {
   "cell_type": "code",
   "execution_count": null,
   "metadata": {},
   "outputs": [],
   "source": [
    "number = int(input('Enter Your Number that you wish to see the mulitiplication table :  '))\n",
    "for i in range(1,11): #for fuck sake i didnt know that range has the same attribute as well as slicing.\n",
    "    mul = number * i\n",
    "    print(number, 'x', i , '=', mul)"
   ]
  }
 ],
 "metadata": {
  "kernelspec": {
   "display_name": "Python 3",
   "language": "python",
   "name": "python3"
  },
  "language_info": {
   "codemirror_mode": {
    "name": "ipython",
    "version": 3
   },
   "file_extension": ".py",
   "mimetype": "text/x-python",
   "name": "python",
   "nbconvert_exporter": "python",
   "pygments_lexer": "ipython3",
   "version": "3.7.3"
  }
 },
 "nbformat": 4,
 "nbformat_minor": 2
}
