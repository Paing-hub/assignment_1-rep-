{
 "cells": [
  {
   "cell_type": "code",
   "execution_count": null,
   "metadata": {},
   "outputs": [],
   "source": [
    "Maths = int(input('Enter your Maths Score : '))\n",
    "Stats = int(input('Enter your Statistics Score : '))\n",
    "Research = int(input('Enter your Research Methodology Score :'))\n",
    "avg = (Maths + Stats + Research) / 3\n",
    "\n",
    "\n",
    "def score_grader(avg):\n",
    "    if 90 <= avg <= 100:\n",
    "        print(f'Average marks {avg} is an A grade.')\n",
    "    elif 80 <= avg <= 89:\n",
    "        print(f'Average marks {avg}  is grade B.')\n",
    "    elif 70 <= avg <= 79:\n",
    "        print(f'Average marks {avg}  is gradeC.')\n",
    "    elif 60 <= avg <= 69:\n",
    "        print(f'Average marks {avg} is grade D.')\n",
    "    elif 0 <= avg <= 59:\n",
    "        print(f'Average marks {avg} is grade F.')\n",
    "    else:\n",
    "        pass\n",
    "score_grader(avg)"
   ]
  }
 ],
 "metadata": {
  "kernelspec": {
   "display_name": "Python 3",
   "language": "python",
   "name": "python3"
  },
  "language_info": {
   "codemirror_mode": {
    "name": "ipython",
    "version": 3
   },
   "file_extension": ".py",
   "mimetype": "text/x-python",
   "name": "python",
   "nbconvert_exporter": "python",
   "pygments_lexer": "ipython3",
   "version": "3.7.3"
  }
 },
 "nbformat": 4,
 "nbformat_minor": 2
}
