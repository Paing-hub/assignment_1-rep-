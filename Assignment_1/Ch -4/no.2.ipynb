{
 "cells": [
  {
   "cell_type": "code",
   "execution_count": 1,
   "metadata": {},
   "outputs": [
    {
     "name": "stdout",
     "output_type": "stream",
     "text": [
      "Enter String: apngnro331\n",
      "Total Number of Uppercase Letters is 0\n",
      "Total Number of Lowercase Letters is 7.\n",
      "Total Number of Digit is 3.\n",
      "Total Number of Blank Space is 0.\n"
     ]
    }
   ],
   "source": [
    "n = input('Enter String: ')\n",
    "num_upper = 0\n",
    "num_lower = 0\n",
    "num_digit = 0\n",
    "num_space = 0\n",
    "for i in n:\n",
    "    if i.isupper() == True:\n",
    "        num_upper += 1\n",
    "    elif i.islower() == True:\n",
    "        num_lower += 1\n",
    "    elif i.isdigit() == True:\n",
    "        num_digit += 1\n",
    "    elif i == ' ':\n",
    "        num_space += 1\n",
    "    else:\n",
    "        pass\n",
    "print(f'Total Number of Uppercase Letters is {num_upper}')\n",
    "print(f'Total Number of Lowercase Letters is {num_lower}.')\n",
    "print(f'Total Number of Digit is {num_digit}.')\n",
    "print(f'Total Number of Blank Space is {num_space}.')\n",
    "    "
   ]
  },
  {
   "cell_type": "code",
   "execution_count": null,
   "metadata": {},
   "outputs": [],
   "source": []
  }
 ],
 "metadata": {
  "kernelspec": {
   "display_name": "Python 3",
   "language": "python",
   "name": "python3"
  },
  "language_info": {
   "codemirror_mode": {
    "name": "ipython",
    "version": 3
   },
   "file_extension": ".py",
   "mimetype": "text/x-python",
   "name": "python",
   "nbconvert_exporter": "python",
   "pygments_lexer": "ipython3",
   "version": "3.7.3"
  }
 },
 "nbformat": 4,
 "nbformat_minor": 2
}
