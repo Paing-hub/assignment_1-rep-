{
 "cells": [
  {
   "cell_type": "code",
   "execution_count": 4,
   "metadata": {},
   "outputs": [
    {
     "name": "stdout",
     "output_type": "stream",
     "text": [
      "Enter seconds: 234834\n",
      "Hour : 65\n",
      "Minutes : 13\n",
      "Seconds : 54\n"
     ]
    }
   ],
   "source": [
    "def sec_converter():\n",
    "    secs = int(input('Enter seconds: '))\n",
    "    hr = secs // 3600 # an hour have 60 mins which leads to 3600 secs i guess so :( စားလဒ်ကိုယူတာ\n",
    "    minute = (secs % 3600) // 60 # 1 min has 60 secs\n",
    "    sec = secs % 60 # အကြွင်းကိုယူတာမှတ်တယ်\n",
    "    print('Hour : {}'.format(hr))\n",
    "    print('Minutes : {}'.format(minute))\n",
    "    print('Seconds : {}'.format(sec))\n",
    "        \n",
    "sec_converter()"
   ]
  },
  {
   "cell_type": "code",
   "execution_count": null,
   "metadata": {},
   "outputs": [],
   "source": []
  }
 ],
 "metadata": {
  "kernelspec": {
   "display_name": "Python 3",
   "language": "python",
   "name": "python3"
  },
  "language_info": {
   "codemirror_mode": {
    "name": "ipython",
    "version": 3
   },
   "file_extension": ".py",
   "mimetype": "text/x-python",
   "name": "python",
   "nbconvert_exporter": "python",
   "pygments_lexer": "ipython3",
   "version": "3.7.3"
  }
 },
 "nbformat": 4,
 "nbformat_minor": 2
}
