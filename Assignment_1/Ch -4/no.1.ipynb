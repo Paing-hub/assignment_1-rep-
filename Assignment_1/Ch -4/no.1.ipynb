{
 "cells": [
  {
   "cell_type": "code",
   "execution_count": 1,
   "metadata": {},
   "outputs": [
    {
     "name": "stdout",
     "output_type": "stream",
     "text": [
      "Enter any words: aomine\n",
      "4\n"
     ]
    }
   ],
   "source": [
    "alpha = str(input('Enter any words: '))\n",
    "cou = 0\n",
    "for alp in alpha:\n",
    "    if (alp == 'A' or alp == 'a' or alp =='e' or alp == 'E' \n",
    "        or alp == 'i' or alp== 'I' or alp =='o'or alp == 'O'or alp =='u' or alp == 'U'):\n",
    "        cou = cou + 1\n",
    "print(cou)"
   ]
  },
  {
   "cell_type": "code",
   "execution_count": null,
   "metadata": {},
   "outputs": [],
   "source": []
  }
 ],
 "metadata": {
  "kernelspec": {
   "display_name": "Python 3",
   "language": "python",
   "name": "python3"
  },
  "language_info": {
   "codemirror_mode": {
    "name": "ipython",
    "version": 3
   },
   "file_extension": ".py",
   "mimetype": "text/x-python",
   "name": "python",
   "nbconvert_exporter": "python",
   "pygments_lexer": "ipython3",
   "version": "3.7.3"
  }
 },
 "nbformat": 4,
 "nbformat_minor": 2
}
