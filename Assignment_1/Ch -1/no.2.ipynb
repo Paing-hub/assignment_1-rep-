{
 "cells": [
  {
   "cell_type": "code",
   "execution_count": null,
   "metadata": {},
   "outputs": [],
   "source": [
    "def add_fun():\n",
    "    st_num = int(input('Give me the damn number : '))\n",
    "    nd_num = int(input('The second one : '))\n",
    "    total = st_num + nd_num\n",
    "    return total\n",
    "add_fun()\n",
    "    "
   ]
  }
 ],
 "metadata": {
  "kernelspec": {
   "display_name": "Python 3",
   "language": "python",
   "name": "python3"
  },
  "language_info": {
   "codemirror_mode": {
    "name": "ipython",
    "version": 3
   },
   "file_extension": ".py",
   "mimetype": "text/x-python",
   "name": "python",
   "nbconvert_exporter": "python",
   "pygments_lexer": "ipython3",
   "version": "3.7.3"
  }
 },
 "nbformat": 4,
 "nbformat_minor": 2
}
